{
 "cells": [
  {
   "cell_type": "code",
   "execution_count": 1,
   "id": "a2fb208b",
   "metadata": {},
   "outputs": [],
   "source": [
    "%matplotlib nbagg\n",
    "import matplotlib.pyplot as plt\n",
    "from Bibliography import Bibliography\n",
    "from GraphScan import GraphScan\n",
    "from make_bibliography_df import make_bibliography_df\n",
    "\n",
    "import numpy as np\n",
    "import os\n",
    "import glob\n",
    "import pandas as pd\n",
    "import ipywidgets as wg"
   ]
  },
  {
   "cell_type": "code",
   "execution_count": 2,
   "id": "718c9943",
   "metadata": {},
   "outputs": [],
   "source": [
    "## Functions for searching database with keywords\n",
    "def cont_keyword(df, keyword, column=\"Carbon type\", case=True):\n",
    "    return df[df[column].astype(str).str.contains(keyword, case)]\n",
    "\n",
    "def cont_multi_keywords(df, list_of_keywords, column=\"Carbon type\", case=True):\n",
    "    return df[df[column].astype(str).str.contains(\"|\".join(list_of_keywords), case)]\n",
    "\n",
    "def excludes_keywords(df, list_of_keywords, column=\"Carbon type\", case=False):\n",
    "    return df[~df[column].astype(str).str.contains(\"|\".join(list_of_keywords), case)]"
   ]
  },
  {
   "cell_type": "code",
   "execution_count": 3,
   "id": "bfa2f496",
   "metadata": {},
   "outputs": [
    {
     "data": {
      "application/vnd.jupyter.widget-view+json": {
       "model_id": "90bc1d3121cb49bb80190abc5b2b0a74",
       "version_major": 2,
       "version_minor": 0
      },
      "text/plain": [
       "Tab(children=(VBox(children=(HBox(children=(Label(value='Reload previous data', layout=Layout(width='20%')), S…"
      ]
     },
     "metadata": {},
     "output_type": "display_data"
    }
   ],
   "source": [
    "bib = Bibliography()\n",
    "bib.tab"
   ]
  },
  {
   "cell_type": "code",
   "execution_count": 4,
   "id": "3d93a60c",
   "metadata": {},
   "outputs": [
    {
     "data": {
      "application/vnd.jupyter.widget-view+json": {
       "model_id": "f3ec7fde6694489bb8744bb18b061b47",
       "version_major": 2,
       "version_minor": 0
      },
      "text/plain": [
       "Tab(children=(VBox(children=(HBox(children=(Label(value='Reload previous data'), SelectFilesButton(description…"
      ]
     },
     "metadata": {},
     "output_type": "display_data"
    }
   ],
   "source": [
    "graph = GraphScan(figsize=(8, 4))\n",
    "graph.tab"
   ]
  },
  {
   "cell_type": "code",
   "execution_count": 5,
   "id": "473736f4",
   "metadata": {},
   "outputs": [],
   "source": [
    "df = make_bibliography_df()"
   ]
  },
  {
   "cell_type": "code",
   "execution_count": null,
   "id": "cc74f12e",
   "metadata": {},
   "outputs": [],
   "source": []
  }
 ],
 "metadata": {
  "kernelspec": {
   "display_name": "Python 3 (ipykernel)",
   "language": "python",
   "name": "python3"
  },
  "language_info": {
   "codemirror_mode": {
    "name": "ipython",
    "version": 3
   },
   "file_extension": ".py",
   "mimetype": "text/x-python",
   "name": "python",
   "nbconvert_exporter": "python",
   "pygments_lexer": "ipython3",
   "version": "3.9.13"
  }
 },
 "nbformat": 4,
 "nbformat_minor": 5
}
